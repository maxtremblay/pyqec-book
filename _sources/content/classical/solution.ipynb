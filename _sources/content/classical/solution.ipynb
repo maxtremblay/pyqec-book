{
 "cells": [
  {
   "cell_type": "markdown",
   "id": "flying-telephone",
   "metadata": {},
   "source": [
    "# Solution\n",
    "\n",
    "## Importing the required tools"
   ]
  },
  {
   "cell_type": "code",
   "execution_count": 1,
   "id": "diverse-token",
   "metadata": {},
   "outputs": [
    {
     "ename": "ImportError",
     "evalue": "/lib/x86_64-linux-gnu/libc.so.6: version `GLIBC_2.33' not found (required by /opt/hostedtoolcache/Python/3.9.1/x64/lib/python3.9/site-packages/pyqec/pyqec.cpython-39-x86_64-linux-gnu.so)",
     "output_type": "error",
     "traceback": [
      "\u001b[0;31m---------------------------------------------------------------------------\u001b[0m",
      "\u001b[0;31mImportError\u001b[0m                               Traceback (most recent call last)",
      "\u001b[0;32m<ipython-input-1-4e6ceed659ac>\u001b[0m in \u001b[0;36m<module>\u001b[0;34m\u001b[0m\n\u001b[0;32m----> 1\u001b[0;31m \u001b[0;32mfrom\u001b[0m \u001b[0mpyqec\u001b[0m\u001b[0;34m.\u001b[0m\u001b[0msparse\u001b[0m \u001b[0;32mimport\u001b[0m \u001b[0mBinaryMatrix\u001b[0m\u001b[0;34m,\u001b[0m \u001b[0mBinaryVector\u001b[0m\u001b[0;34m\u001b[0m\u001b[0;34m\u001b[0m\u001b[0m\n\u001b[0m\u001b[1;32m      2\u001b[0m \u001b[0;32mfrom\u001b[0m \u001b[0mpyqec\u001b[0m\u001b[0;34m.\u001b[0m\u001b[0mclassical\u001b[0m \u001b[0;32mimport\u001b[0m \u001b[0mLinearCode\u001b[0m\u001b[0;34m,\u001b[0m \u001b[0mBinarySymmetricChannel\u001b[0m\u001b[0;34m\u001b[0m\u001b[0;34m\u001b[0m\u001b[0m\n\u001b[1;32m      3\u001b[0m \u001b[0;32mfrom\u001b[0m \u001b[0mpyqec\u001b[0m\u001b[0;34m.\u001b[0m\u001b[0mexperiments\u001b[0m \u001b[0;32mimport\u001b[0m \u001b[0mClassicalDecodingExperiment\u001b[0m\u001b[0;34m,\u001b[0m \u001b[0mLaboratory\u001b[0m\u001b[0;34m\u001b[0m\u001b[0;34m\u001b[0m\u001b[0m\n",
      "\u001b[0;32m/opt/hostedtoolcache/Python/3.9.1/x64/lib/python3.9/site-packages/pyqec/__init__.py\u001b[0m in \u001b[0;36m<module>\u001b[0;34m\u001b[0m\n\u001b[0;32m----> 1\u001b[0;31m \u001b[0;32mfrom\u001b[0m \u001b[0;34m.\u001b[0m \u001b[0;32mimport\u001b[0m \u001b[0mclassical\u001b[0m\u001b[0;34m\u001b[0m\u001b[0;34m\u001b[0m\u001b[0m\n\u001b[0m\u001b[1;32m      2\u001b[0m \u001b[0;32mfrom\u001b[0m \u001b[0;34m.\u001b[0m \u001b[0;32mimport\u001b[0m \u001b[0mexperiments\u001b[0m\u001b[0;34m\u001b[0m\u001b[0;34m\u001b[0m\u001b[0m\n\u001b[1;32m      3\u001b[0m \u001b[0;32mfrom\u001b[0m \u001b[0;34m.\u001b[0m \u001b[0;32mimport\u001b[0m \u001b[0msparse\u001b[0m\u001b[0;34m\u001b[0m\u001b[0;34m\u001b[0m\u001b[0m\n\u001b[1;32m      4\u001b[0m \u001b[0;34m\u001b[0m\u001b[0m\n",
      "\u001b[0;32m/opt/hostedtoolcache/Python/3.9.1/x64/lib/python3.9/site-packages/pyqec/classical.py\u001b[0m in \u001b[0;36m<module>\u001b[0;34m\u001b[0m\n\u001b[0;32m----> 1\u001b[0;31m \u001b[0;32mfrom\u001b[0m \u001b[0;34m.\u001b[0m\u001b[0mpyqec\u001b[0m \u001b[0;32mimport\u001b[0m \u001b[0mLinearCode\u001b[0m\u001b[0;34m,\u001b[0m \u001b[0mBinarySymmetricChannel\u001b[0m\u001b[0;34m,\u001b[0m \u001b[0mFlipDecoder\u001b[0m\u001b[0;34m\u001b[0m\u001b[0;34m\u001b[0m\u001b[0m\n\u001b[0m",
      "\u001b[0;31mImportError\u001b[0m: /lib/x86_64-linux-gnu/libc.so.6: version `GLIBC_2.33' not found (required by /opt/hostedtoolcache/Python/3.9.1/x64/lib/python3.9/site-packages/pyqec/pyqec.cpython-39-x86_64-linux-gnu.so)"
     ]
    }
   ],
   "source": [
    "from pyqec.sparse import BinaryMatrix, BinaryVector\n",
    "from pyqec.classical import LinearCode, BinarySymmetricChannel\n",
    "from pyqec.experiments import ClassicalDecodingExperiment, Laboratory"
   ]
  },
  {
   "cell_type": "markdown",
   "id": "minor-truck",
   "metadata": {},
   "source": [
    "## A function to generate codes"
   ]
  },
  {
   "cell_type": "code",
   "execution_count": null,
   "id": "separate-course",
   "metadata": {},
   "outputs": [],
   "source": [
    "def repetition_code(length):\n",
    "    if length % 2 != 1:\n",
    "        raise ValueError(\"length must be an odd integer\")\n",
    "    checks = [[i, i + 1] for i in range(length - 1)]\n",
    "    parity_check_matrix = BinaryMatrix(length, checks)\n",
    "    return LinearCode(parity_check_matrix, tag=f\"n = {length}\")"
   ]
  },
  {
   "cell_type": "markdown",
   "id": "expanded-milan",
   "metadata": {},
   "source": [
    "## The decoder"
   ]
  },
  {
   "cell_type": "code",
   "execution_count": null,
   "id": "attempted-extension",
   "metadata": {},
   "outputs": [],
   "source": [
    "class MajorityDecoder:\n",
    "    def __init__(self, code):\n",
    "        self.code = code\n",
    "        length = len(code)\n",
    "        self.limit = (length - 1) / 2 \n",
    "        self.zero_codeword = BinaryVector(length, list())\n",
    "        self.one_codeword = BinaryVector(length, list(range(length)))\n",
    "\n",
    "    def decode(self, message):\n",
    "        if message.weight() > self.limit:\n",
    "            return self.one_codeword\n",
    "        else:\n",
    "            return self.zero_codeword"
   ]
  },
  {
   "cell_type": "markdown",
   "id": "neutral-career",
   "metadata": {},
   "source": [
    "## Running the experiments"
   ]
  },
  {
   "cell_type": "code",
   "execution_count": null,
   "id": "greater-moisture",
   "metadata": {},
   "outputs": [],
   "source": [
    "def build_experiment(code_length, probability):\n",
    "    code = repetition_code(code_length)\n",
    "    decoder = MajorityDecoder(code)\n",
    "    noise = BinarySymmetricChannel(probability)\n",
    "    return ClassicalDecodingExperiment(code, decoder, noise)\n",
    "\n",
    "laboratory = Laboratory(8) # I have 8 CPUs on my machine.\n",
    "\n",
    "for length in range(1, 10, 2):\n",
    "    for probability in (0.05 * p for p in range(1, 21)):\n",
    "        laboratory.add_experiment(build_experiment(length, probability))\n",
    "\n",
    "results = laboratory.run_all_experiments_n_times(1000)"
   ]
  },
  {
   "cell_type": "markdown",
   "id": "trained-horse",
   "metadata": {},
   "source": [
    "## Visualization"
   ]
  },
  {
   "cell_type": "code",
   "execution_count": null,
   "id": "identical-stopping",
   "metadata": {},
   "outputs": [],
   "source": [
    "results.plot()"
   ]
  },
  {
   "cell_type": "markdown",
   "id": "binary-beads",
   "metadata": {},
   "source": [
    "```{note}\n",
    "As expected,\n",
    "we can estimate from the plot that the threshold for the repetition code is \\\\(\\frac{1}{2} \\\\).\n",
    "```"
   ]
  }
 ],
 "metadata": {
  "jupytext": {
   "formats": "md:myst",
   "text_representation": {
    "extension": ".md",
    "format_name": "myst"
   }
  },
  "kernelspec": {
   "display_name": "Python 3",
   "language": "python",
   "name": "python3"
  },
  "language_info": {
   "codemirror_mode": {
    "name": "ipython",
    "version": 3
   },
   "file_extension": ".py",
   "mimetype": "text/x-python",
   "name": "python",
   "nbconvert_exporter": "python",
   "pygments_lexer": "ipython3",
   "version": "3.9.1"
  },
  "source_map": [
   11,
   17,
   21,
   25,
   32,
   36,
   50,
   54,
   68,
   73,
   75
  ]
 },
 "nbformat": 4,
 "nbformat_minor": 5
}