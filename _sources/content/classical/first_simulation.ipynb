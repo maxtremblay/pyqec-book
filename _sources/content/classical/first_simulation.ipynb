{
 "cells": [
  {
   "cell_type": "markdown",
   "id": "binary-bones",
   "metadata": {},
   "source": [
    "# Your first simulation\n",
    "\n",
    "To follow this section,\n",
    "you should create a new python file\n",
    "with the following imports."
   ]
  },
  {
   "cell_type": "code",
   "execution_count": 1,
   "id": "large-programmer",
   "metadata": {},
   "outputs": [
    {
     "ename": "ImportError",
     "evalue": "/lib/x86_64-linux-gnu/libc.so.6: version `GLIBC_2.33' not found (required by /opt/hostedtoolcache/Python/3.9.1/x64/lib/python3.9/site-packages/pyqec/pyqec.cpython-39-x86_64-linux-gnu.so)",
     "output_type": "error",
     "traceback": [
      "\u001b[0;31m---------------------------------------------------------------------------\u001b[0m",
      "\u001b[0;31mImportError\u001b[0m                               Traceback (most recent call last)",
      "\u001b[0;32m<ipython-input-1-4e6ceed659ac>\u001b[0m in \u001b[0;36m<module>\u001b[0;34m\u001b[0m\n\u001b[0;32m----> 1\u001b[0;31m \u001b[0;32mfrom\u001b[0m \u001b[0mpyqec\u001b[0m\u001b[0;34m.\u001b[0m\u001b[0msparse\u001b[0m \u001b[0;32mimport\u001b[0m \u001b[0mBinaryMatrix\u001b[0m\u001b[0;34m,\u001b[0m \u001b[0mBinaryVector\u001b[0m\u001b[0;34m\u001b[0m\u001b[0;34m\u001b[0m\u001b[0m\n\u001b[0m\u001b[1;32m      2\u001b[0m \u001b[0;32mfrom\u001b[0m \u001b[0mpyqec\u001b[0m\u001b[0;34m.\u001b[0m\u001b[0mclassical\u001b[0m \u001b[0;32mimport\u001b[0m \u001b[0mLinearCode\u001b[0m\u001b[0;34m,\u001b[0m \u001b[0mBinarySymmetricChannel\u001b[0m\u001b[0;34m\u001b[0m\u001b[0;34m\u001b[0m\u001b[0m\n\u001b[1;32m      3\u001b[0m \u001b[0;32mfrom\u001b[0m \u001b[0mpyqec\u001b[0m\u001b[0;34m.\u001b[0m\u001b[0mexperiments\u001b[0m \u001b[0;32mimport\u001b[0m \u001b[0mClassicalDecodingExperiment\u001b[0m\u001b[0;34m,\u001b[0m \u001b[0mLaboratory\u001b[0m\u001b[0;34m\u001b[0m\u001b[0;34m\u001b[0m\u001b[0m\n",
      "\u001b[0;32m/opt/hostedtoolcache/Python/3.9.1/x64/lib/python3.9/site-packages/pyqec/__init__.py\u001b[0m in \u001b[0;36m<module>\u001b[0;34m\u001b[0m\n\u001b[0;32m----> 1\u001b[0;31m \u001b[0;32mfrom\u001b[0m \u001b[0;34m.\u001b[0m \u001b[0;32mimport\u001b[0m \u001b[0mclassical\u001b[0m\u001b[0;34m\u001b[0m\u001b[0;34m\u001b[0m\u001b[0m\n\u001b[0m\u001b[1;32m      2\u001b[0m \u001b[0;32mfrom\u001b[0m \u001b[0;34m.\u001b[0m \u001b[0;32mimport\u001b[0m \u001b[0mexperiments\u001b[0m\u001b[0;34m\u001b[0m\u001b[0;34m\u001b[0m\u001b[0m\n\u001b[1;32m      3\u001b[0m \u001b[0;32mfrom\u001b[0m \u001b[0;34m.\u001b[0m \u001b[0;32mimport\u001b[0m \u001b[0msparse\u001b[0m\u001b[0;34m\u001b[0m\u001b[0;34m\u001b[0m\u001b[0m\n\u001b[1;32m      4\u001b[0m \u001b[0;34m\u001b[0m\u001b[0m\n",
      "\u001b[0;32m/opt/hostedtoolcache/Python/3.9.1/x64/lib/python3.9/site-packages/pyqec/classical.py\u001b[0m in \u001b[0;36m<module>\u001b[0;34m\u001b[0m\n\u001b[0;32m----> 1\u001b[0;31m \u001b[0;32mfrom\u001b[0m \u001b[0;34m.\u001b[0m\u001b[0mpyqec\u001b[0m \u001b[0;32mimport\u001b[0m \u001b[0mLinearCode\u001b[0m\u001b[0;34m,\u001b[0m \u001b[0mBinarySymmetricChannel\u001b[0m\u001b[0;34m,\u001b[0m \u001b[0mFlipDecoder\u001b[0m\u001b[0;34m\u001b[0m\u001b[0;34m\u001b[0m\u001b[0m\n\u001b[0m",
      "\u001b[0;31mImportError\u001b[0m: /lib/x86_64-linux-gnu/libc.so.6: version `GLIBC_2.33' not found (required by /opt/hostedtoolcache/Python/3.9.1/x64/lib/python3.9/site-packages/pyqec/pyqec.cpython-39-x86_64-linux-gnu.so)"
     ]
    }
   ],
   "source": [
    "from pyqec.sparse import BinaryMatrix, BinaryVector\n",
    "from pyqec.classical import LinearCode, BinarySymmetricChannel\n",
    "from pyqec.experiments import ClassicalDecodingExperiment, Laboratory"
   ]
  },
  {
   "cell_type": "markdown",
   "id": "specified-following",
   "metadata": {},
   "source": [
    "I strongly suggest that you try to follow along and to run\n",
    "the code snippets.\n",
    "\n",
    "## The Hamming code\n",
    "\n",
    "One of the simplest linear code is the Hamming code\n",
    "defined from the parity check matrix\n",
    "\n",
    "\\begin{align*}\n",
    "    H = \n",
    "    \\begin{pmatrix}\n",
    "        0 & 0 & 0 & 1 & 1 & 1 & 1 \\\\\n",
    "        0 & 1 & 1 & 0 & 0 & 1 & 1 \\\\\n",
    "        1 & 0 & 1 & 0 & 1 & 0 & 1 \n",
    "    \\end{pmatrix}.\n",
    "\\end{align*}\n",
    "\n",
    "A simple way to remember this matrix is that \n",
    "each column is the binary representation of its position\n",
    "when starting to count from 1 and not 0.\n",
    "\n",
    "```{note}\n",
    "The `pyqec` library is optimized to represent sparse linear codes.\n",
    "These are linear codes with a parity check matrix with a relatively\n",
    "small number of 1s.\n",
    "The Hamming code is not a sparse code,\n",
    "but since it is really small,\n",
    "performances are not an issue.\n",
    "```\n",
    "\n",
    "To construct this matrix,\n",
    "we specify the number of columns and\n",
    "the **sorted** positions of the 1s in each row."
   ]
  },
  {
   "cell_type": "code",
   "execution_count": null,
   "id": "efficient-track",
   "metadata": {},
   "outputs": [],
   "source": [
    "parity_check_matrix = BinaryMatrix(\n",
    "    7,\n",
    "    [\n",
    "        [3, 4, 5, 6],\n",
    "        [1, 2, 5, 6],\n",
    "        [0, 2, 4, 6]\n",
    "    ]\n",
    ")"
   ]
  },
  {
   "cell_type": "markdown",
   "id": "multiple-valve",
   "metadata": {},
   "source": [
    "From this parity check matrix,\n",
    "we can instantiate the corresponding linear code."
   ]
  },
  {
   "cell_type": "code",
   "execution_count": null,
   "id": "metric-nebraska",
   "metadata": {},
   "outputs": [],
   "source": [
    "hamming_code = LinearCode(\n",
    "    parity_check_matrix, \n",
    "    tag=\"Hamming code\"\n",
    ")"
   ]
  },
  {
   "cell_type": "markdown",
   "id": "breathing-gabriel",
   "metadata": {},
   "source": [
    "```{tip}\n",
    "We gave the code a tag. \n",
    "This is useful to distinguish codes \n",
    "when we run many simulations with different codes.\n",
    "```\n",
    "\n",
    "We could also define a linear code from a generator matrix.\n",
    "\n",
    "```python\n",
    "some_code = LinearCode(generator_matrix=some_matrix)\n",
    "```\n",
    "\n",
    "We can even specify both matrices if they are orthogonal (\\\\( H\\cdot G^T = 0 \\\\)).\n",
    "If one matrix is omitted,\n",
    "it will be computed from the other.\n",
    "If neither a parity check matrix\n",
    "nor a generator matrix is given,\n",
    "an empty code is constructed.\n",
    "This is not really useful for correcting errors,\n",
    "but could be used as a place holder since it allocated\n",
    "a minimal amount of memory.\n",
    "\n",
    "## The decoder\n",
    "\n",
    "An interesting property of the Hamming code \n",
    "is that for any binary vector the syndrome\n",
    "tells us which bit to flip to map it to the closest codeword.\n",
    "\n",
    "For example,\n",
    "1110000 is a codeword of the Hamming code.\n",
    "As expected,\n",
    "it has a syndrome of 000.\n",
    "If we flip the fifth bit we obtain the vector 1110100\n",
    "with syndrome 101.\n",
    "The number 101 is the binary representation of the number 5.\n",
    "Thus, \n",
    "we know that we need to flip the fifth bit to recover the original codeword.\n",
    "You can verify that this works if you start from a different codeword as well.\n",
    "The codeword 1010101 for example.\n",
    "We can use this trick to construct a decoder.\n",
    "\n",
    "```{note}\n",
    "This decoder can only correct a single error and will fail if\n",
    "there are more errors. \n",
    "There are no decoder for the Hamming code that can correct\n",
    "two errors.\n",
    "```\n",
    "\n",
    "To define a classical decoder to use with `pyqec`,\n",
    "we need to define a class with the `decoder` method,\n",
    "taking a binary vector usually called a message as single argument\n",
    "and returning a codeword."
   ]
  },
  {
   "cell_type": "code",
   "execution_count": null,
   "id": "residential-sunrise",
   "metadata": {},
   "outputs": [],
   "source": [
    "class HammingDecoder:\n",
    "    def __init__(self, code):\n",
    "        self.code = code\n",
    "\n",
    "    def decode(self, message):\n",
    "        syndrome = self.code.syndrome_of(message)\n",
    "        bit = self.bit_to_flip(syndrome)\n",
    "        if bit:\n",
    "            # To flip the bit, we addition a vector with a single\n",
    "            # 1 at the corresponding position.\n",
    "            return message + BinaryVector(7, [bit])\n",
    "        else:\n",
    "            # It is already a codeword.\n",
    "            return message\n",
    "\n",
    "    def bit_to_flip(self, syndrome):\n",
    "        bit_to_flip = 0\n",
    "        for unsatisfied_position in syndrome:\n",
    "            # The smallest position correspond \n",
    "            # to the highest power of 2.\n",
    "            bit_to_flip += 2**(len(syndrome) - 1 - unsatisfied_position)\n",
    "        if bit_to_flip > 0:\n",
    "            # We offset because binary vector are 0-indexed.\n",
    "            return bit_to_flip - 1 \n",
    "        else:\n",
    "            # There is no bit to flip\n",
    "            return None"
   ]
  },
  {
   "cell_type": "markdown",
   "id": "veterinary-documentary",
   "metadata": {},
   "source": [
    "Let's analyze this.\n",
    "In the `__init__` method,\n",
    "we pass a code to initialize the decoder.\n",
    "We could have hardcoded the Hamming code in the decoder,\n",
    "but there exists an infinite amount of parity check matrices\n",
    "that we could use with this decoder.\n",
    "So we should keep this freedom.\n",
    "\n",
    "Then, we should take a look at the `bit_to_flip` method.\n",
    "This method is returning the position of the bit to flip\n",
    "or `None` if there is no bit to flip.\n",
    "It uses the `non_trival_positions` method of `BinaryVector`.\n",
    "This method allows us to iterate over all positions where the syndrome is 1\n",
    "in increasing order.\n",
    "\n",
    "Finally,\n",
    "the `decode` method starts by computing the syndrome \n",
    "before using the `bit_to_flip` method \n",
    "to find the correction.\n",
    "If there is a bit to flip,\n",
    "we create a new vector with a single one at the position\n",
    "of the bit to flip\n",
    "and we add it to the `message`.\n",
    "However,\n",
    "if there is no bit to flip,\n",
    "we simply return the input.\n",
    "\n",
    "From this point, it is easy to instantiate\n",
    "the decoder."
   ]
  },
  {
   "cell_type": "code",
   "execution_count": null,
   "id": "creative-signal",
   "metadata": {},
   "outputs": [],
   "source": [
    "decoder = HammingDecoder(hamming_code)"
   ]
  },
  {
   "cell_type": "markdown",
   "id": "democratic-showcase",
   "metadata": {},
   "source": [
    "## Building the experiment\n",
    "\n",
    "We would like to obtain a plot of the failure rate\n",
    "as a function of the error probability using \n",
    "binary symmetric channels.\n",
    "\n",
    "To create a binary symmetric channel,\n",
    "we only need to specify the error probability."
   ]
  },
  {
   "cell_type": "code",
   "execution_count": null,
   "id": "essential-solomon",
   "metadata": {},
   "outputs": [],
   "source": [
    "noise = BinarySymmetricChannel(0.25)"
   ]
  },
  {
   "cell_type": "markdown",
   "id": "radical-antibody",
   "metadata": {},
   "source": [
    "```{note}\n",
    "It is possible to specify a seed for the random\n",
    "number generator as the second parameter.\n",
    "```\n",
    "\n",
    "The simplest way to simulate the performances of a classical decoder\n",
    "is to use the `ClassicalDecodingExperiment` class.\n",
    "A single simulation involve generating a random codeword,\n",
    "then applying random noise on this codeword\n",
    "and finally decoding it with the decoder.\n",
    "We can estimate the failure rate \n",
    "by running many simulation and \n",
    "counting the number of time the decoder fails.\n",
    "The `ClassicalDecodingExperiment` class take care\n",
    "of all that."
   ]
  },
  {
   "cell_type": "code",
   "execution_count": null,
   "id": "representative-raise",
   "metadata": {},
   "outputs": [],
   "source": [
    "experiment = ClassicalDecodingExperiment(hamming_code, decoder, noise)\n",
    "result = experiment.run_n_times(1000)\n",
    "print(result)"
   ]
  },
  {
   "cell_type": "markdown",
   "id": "divided-template",
   "metadata": {},
   "source": [
    "Since we want to say the change in failure rate for different probabilities,\n",
    "we should create a function to rapidly create a new experiment."
   ]
  },
  {
   "cell_type": "code",
   "execution_count": null,
   "id": "broken-miami",
   "metadata": {},
   "outputs": [],
   "source": [
    "def build_experiment(probability):\n",
    "    noise = BinarySymmetricChannel(probability)\n",
    "    return ClassicalDecodingExperiment(hamming_code, decoder, noise)"
   ]
  },
  {
   "cell_type": "markdown",
   "id": "historic-disclaimer",
   "metadata": {},
   "source": [
    "## Running many experiments\n",
    "\n",
    "One way to run many experiments is to use a bunch of for loops.\n",
    "But, we aren't that barbaric.\n",
    "Instead,\n",
    "we are going to use the `Laboratory` class.\n",
    "This allows us to group many experiments together before running them.\n",
    "Of course,\n",
    "if you have access to many CPUs,\n",
    "you can run many experiments in parallel.\n",
    "By now,\n",
    "you should be eager to instantiate your first laboratory\n",
    "and to add a few experiments to it."
   ]
  },
  {
   "cell_type": "code",
   "execution_count": null,
   "id": "dying-acquisition",
   "metadata": {},
   "outputs": [],
   "source": [
    "laboratory = Laboratory(8) # There are 8 CPUs on my personal computer.\n",
    "\n",
    "for probability in (0.05 * i for i in range(1, 21)):\n",
    "    laboratory.add_experiment(build_experiment(probability))"
   ]
  },
  {
   "cell_type": "markdown",
   "id": "aggressive-example",
   "metadata": {},
   "source": [
    "It is almost as easy to obtain the results of all the experiments in the laboratory."
   ]
  },
  {
   "cell_type": "code",
   "execution_count": null,
   "id": "incredible-screw",
   "metadata": {},
   "outputs": [],
   "source": [
    "results = laboratory.run_all_experiments_n_times(1000)"
   ]
  },
  {
   "cell_type": "markdown",
   "id": "small-curve",
   "metadata": {},
   "source": [
    "## Visualization\n",
    "\n",
    "As if laboratory where not cool enough already,\n",
    "we can generate simple plots from the results they generate.\n",
    "In the backend,\n",
    "this is done with `matplotlib`,\n",
    "but you don't even need to import it.\n",
    "\n",
    "The most common plot is to have the failure rate as a function of the physical error rate\n",
    "along with the uncertainties of course.\n",
    "What if I tell you that you can do this plot with a single extra line of code?\n",
    "Would you believe that?"
   ]
  },
  {
   "cell_type": "code",
   "execution_count": null,
   "id": "necessary-gothic",
   "metadata": {},
   "outputs": [],
   "source": [
    "results.plot()"
   ]
  },
  {
   "cell_type": "markdown",
   "id": "independent-destiny",
   "metadata": {},
   "source": [
    "You worked hard to get this nice figure.\n",
    "It would be great to save it.\n",
    "To do so,\n",
    "just specify the destination path as an argument to the `plot` method.\n",
    "\n",
    "Also, \n",
    "have you noticed the legend in the figure?\n",
    "This is the tag we specified earlier.\n",
    "To each tag will corresponds one curve in the final plot.\n",
    "You can use this if you want to compare the performances\n",
    "of many codes."
   ]
  }
 ],
 "metadata": {
  "jupytext": {
   "formats": "md:myst",
   "text_representation": {
    "extension": ".md",
    "format_name": "myst"
   }
  },
  "kernelspec": {
   "display_name": "Python 3",
   "language": "python",
   "name": "python3"
  },
  "language_info": {
   "codemirror_mode": {
    "name": "ipython",
    "version": 3
   },
   "file_extension": ".py",
   "mimetype": "text/x-python",
   "name": "python",
   "nbconvert_exporter": "python",
   "pygments_lexer": "ipython3",
   "version": "3.9.1"
  },
  "source_map": [
   11,
   19,
   23,
   59,
   68,
   73,
   78,
   133,
   161,
   193,
   195,
   206,
   208,
   226,
   230,
   235,
   239,
   255,
   260,
   264,
   266,
   281,
   283
  ]
 },
 "nbformat": 4,
 "nbformat_minor": 5
}